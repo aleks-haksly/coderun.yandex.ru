{
  "nbformat": 4,
  "nbformat_minor": 0,
  "metadata": {
    "colab": {
      "provenance": [],
      "authorship_tag": "ABX9TyNLRjW4OThhaKceCnykdJwL",
      "include_colab_link": true
    },
    "kernelspec": {
      "name": "python3",
      "display_name": "Python 3"
    },
    "language_info": {
      "name": "python"
    }
  },
  "cells": [
    {
      "cell_type": "markdown",
      "metadata": {
        "id": "view-in-github",
        "colab_type": "text"
      },
      "source": [
        "<a href=\"https://colab.research.google.com/github/aleks-haksly/coderun.yandex.ru/blob/main/quickstart/quickstart.ipynb\" target=\"_parent\"><img src=\"https://colab.research.google.com/assets/colab-badge.svg\" alt=\"Open In Colab\"/></a>"
      ]
    },
    {
      "cell_type": "markdown",
      "source": [
        "1. Даны три натуральных числа. Возможно ли построить треугольник с такими сторонами? Если это возможно, выведите строку YES, иначе выведите строку NO.\n",
        "\n",
        "Треугольник — это три точки, не лежащие на одной прямой.\n",
        "\n",
        "`Формат ввода`\n",
        "Вводятся три натуральных числа.\n",
        "\n",
        "`Формат вывода`\n",
        "Выведите ответ на задачу."
      ],
      "metadata": {
        "id": "wWJ8c9263IGv"
      }
    },
    {
      "cell_type": "code",
      "execution_count": null,
      "metadata": {
        "id": "5pGR6HrbptQ9"
      },
      "outputs": [],
      "source": [
        "data = sorted(int(input()) for _ in range(3))\n",
        "if data.pop() < sum(data):\n",
        "  print(\"YES\")\n",
        "else:\n",
        "  print(\"NO\")"
      ]
    },
    {
      "cell_type": "markdown",
      "source": [
        "2. Возрастает ли список?\n",
        "Не решалась\n",
        "Лёгкая\n",
        "Дан список. Определите, является ли он монотонно возрастающим (то есть верно ли, что каждый элемент этого списка больше предыдущего).\n",
        "\n",
        "Выведите YES, если массив монотонно возрастает и NO в противном случае."
      ],
      "metadata": {
        "id": "c6peGJoa3iHB"
      }
    },
    {
      "cell_type": "code",
      "source": [
        "data = input().split()\n",
        "for i in range(1, len(data)):\n",
        "  if data[i] <= data[i-1]:\n",
        "    print(\"NO\")\n",
        "    break\n",
        "else:\n",
        "  print(\"YES\")"
      ],
      "metadata": {
        "id": "9-PMUlMG3vO3",
        "outputId": "ceb80b42-f947-443b-e259-7048684dfa0f",
        "colab": {
          "base_uri": "https://localhost:8080/"
        }
      },
      "execution_count": 5,
      "outputs": [
        {
          "output_type": "stream",
          "name": "stdout",
          "text": [
            "1 2 3\n",
            "YES\n"
          ]
        }
      ]
    },
    {
      "cell_type": "markdown",
      "source": [
        "В новой программе OpenCalculator появилась новая возможность – можно настроить, какие кнопки отображаются, а какие – нет. Если кнопка не отображается на экране, то ввести соответствующую цифру с клавиатуры или копированием из другой программы нельзя. Петя настроил калькулятор так, что он отображает только кнопки с цифрами x, y, z. Напишите программу, определяющую, сможет ли Петя ввести число N, а если нет, то какое минимальное количество кнопок надо дополнительно отобразить на экране для его ввода.\n",
        "\n",
        "Формат ввода\n",
        "Сначала вводятся три различных числа из диапазона от 0 до 9: x, y и z (числа разделяются пробелами). Далее вводится целое неотрицательное число N, которое Петя хочет ввести в калькулятор. Число N не превышает 10000.\n",
        "\n",
        "Формат вывода\n",
        "Выведите, какое минимальное количество кнопок должно быть добавлено для того, чтобы можно было ввести число N (если число может быть введено с помощью уже имеющихся кнопок, выведите 0)\n",
        "\n",
        "Примечание\n",
        "Комментарии к примерам тестов.\n",
        "\n",
        "Число может быть введено имеющимися кнопками.\n",
        "\n",
        "Нужно добавить кнопку 0.\n",
        "\n",
        "Нужно добавить кнопки 1 и 2."
      ],
      "metadata": {
        "id": "MZJhh1ee5UZK"
      }
    },
    {
      "cell_type": "code",
      "source": [
        "nums = set(_ for _ in input().split())\n",
        "N = set(input())\n",
        "N.difference_update(nums)\n",
        "print(len(N))"
      ],
      "metadata": {
        "id": "53wJ6wll3ziP",
        "outputId": "3fe11f35-9510-4247-f105-bb1c20e5a705",
        "colab": {
          "base_uri": "https://localhost:8080/"
        }
      },
      "execution_count": 21,
      "outputs": [
        {
          "output_type": "stream",
          "name": "stdout",
          "text": [
            "1 2 3\n",
            "321\n",
            "0\n"
          ]
        }
      ]
    },
    {
      "cell_type": "markdown",
      "source": [
        "4. Количество слов в тексте\n",
        "Во входном файле записан текст (вы можете читать данные из sys.stdin, подключив библиотеку sys). Словом считается последовательность непробельных символов идущих подряд, слова разделены одним или большим числом пробелов или символами конца строки. Определите, сколько различных слов содержится в этом тексте.\n",
        "\n",
        "Формат ввода\n",
        "Вводится текст.\n",
        "\n",
        "Формат вывода\n",
        "Выведите ответ на задачу."
      ],
      "metadata": {
        "id": "oeUzpy2i8Juo"
      }
    },
    {
      "cell_type": "code",
      "source": [
        "import sys\n",
        "import string"
      ],
      "metadata": {
        "id": "PsLFBp2E8wTs"
      },
      "execution_count": 43,
      "outputs": []
    },
    {
      "cell_type": "code",
      "source": [
        "data = [line.strip() for line in sys.stdin]"
      ],
      "metadata": {
        "id": "uvNO2tbG80Rg"
      },
      "execution_count": 27,
      "outputs": []
    },
    {
      "cell_type": "code",
      "source": [
        "# правильный вариант на самом деле\n",
        "#with open(\"test.txt\", 'r') as file:\n",
        "data = [line.strip(). \\\n",
        "          lower(). \\\n",
        "          translate(line.strip().maketrans(\"'\", \" \", string.punctuation.replace(\"'\", \"\"))). \\\n",
        "          split()  for line in file]\n",
        "len(set(sum(data, [])))"
      ],
      "metadata": {
        "id": "kyfA-0gQ9Oh0"
      },
      "execution_count": 101,
      "outputs": []
    },
    {
      "cell_type": "code",
      "source": [
        "#with open(\"test.txt\", 'r') as file:\n",
        "# Это неправильно, так как пунктуация не удаляется, но яндексу нужен именно этот вариант\n",
        "data = [line.strip().split() for line in sys.stdin]\n",
        "print(len(set(sum(data, []))))"
      ],
      "metadata": {
        "id": "CkzdBtm8BiiG"
      },
      "execution_count": 107,
      "outputs": []
    },
    {
      "cell_type": "markdown",
      "source": [
        "## 5. Ближайшее число ##\n",
        "Напишите программу, которая находит в массиве элемент, самый близкий по величине к данному числу.\n",
        "\n",
        "Формат ввода\n",
        "В первой строке задается одно натуральное число N, не превосходящее 1000 – размер массива. Во второй строке содержатся N чисел – элементы массива (целые числа, не превосходящие по модулю 1000). В третьей строке вводится одно целое число x, не превосходящее по модулю 1000.\n",
        "\n",
        "Формат вывода\n",
        "Вывести значение элемента массива, ближайшее к x. Если таких чисел несколько, выведите любое из них."
      ],
      "metadata": {
        "id": "-aLIl0VYJF-_"
      }
    },
    {
      "cell_type": "code",
      "source": [
        "input()\n",
        "nums = [int(_) for _ in input().split()]\n",
        "x = int(input())\n",
        "min = 1000\n",
        "for n in nums:\n",
        "  if abs(n - x) < abs(min - x):\n",
        "    min = n\n",
        "print(min)\n"
      ],
      "metadata": {
        "id": "C_oAlSdtG36_",
        "outputId": "c5bdad5c-8cf9-47a6-d588-259100e97748",
        "colab": {
          "base_uri": "https://localhost:8080/"
        }
      },
      "execution_count": 109,
      "outputs": [
        {
          "output_type": "stream",
          "name": "stdout",
          "text": [
            "1\n",
            "1 2 3 4 5\n",
            "6\n",
            "5\n"
          ]
        }
      ]
    },
    {
      "cell_type": "markdown",
      "source": [
        "6. Симметричная последовательность\n",
        "Решена\n",
        "Лёгкая\n",
        "Последовательность чисел назовём симметричной, если она одинаково читается как слева направо, так и справа налево. Например, следующие последовательности являются симметричными:\n",
        "\n",
        "1 2 3 4 5 4 3 2 1\n",
        "\n",
        "1 2 1 2 2 1 2 1\n",
        "\n",
        "Вашей программе будет дана последовательность чисел. Требуется определить, какое минимальное количество и каких чисел надо приписать в конец этой последовательности, чтобы она стала симметричной.\n",
        "\n",
        "Формат ввода\n",
        "Сначала вводится число\n",
        "𝑁\n",
        "N — количество элементов исходной последовательности (1\n",
        "≤\n",
        "≤\n",
        "𝑁\n",
        "N\n",
        "≤\n",
        "≤ 100). Далее идут\n",
        "𝑁\n",
        "N чисел — элементы этой последовательности, натуральные числа от 1 до 9.\n",
        "\n",
        "Формат вывода\n",
        "Выведите сначала число\n",
        "𝑀\n",
        "M — минимальное количество элементов, которое надо дописать к последовательности, а потом\n",
        "𝑀\n",
        "M чисел (каждое — от 1 до 9) — числа, которые надо дописать к последовательности."
      ],
      "metadata": {
        "id": "2jimlw8uY0w-"
      }
    },
    {
      "cell_type": "code",
      "source": [
        "input()\n",
        "data =  input().split()\n",
        "temp = data.copy()\n",
        "extention = []\n",
        "while data + extention != extention[::-1] + data[::-1]:\n",
        "  extention = [temp.pop(0)] + extention\n",
        "print(l := len(extention))\n",
        "if l:\n",
        "  print(*extention)"
      ],
      "metadata": {
        "id": "U-pLbvRTM0R_",
        "outputId": "0f1dbb69-abc5-4aff-d9c8-8e44e2ef0d2e",
        "colab": {
          "base_uri": "https://localhost:8080/"
        }
      },
      "execution_count": 8,
      "outputs": [
        {
          "output_type": "stream",
          "name": "stdout",
          "text": [
            "['1', '2', '1', '2', '2'] ['1']\n",
            "['1', '2', '1', '2', '2'] ['2', '1']\n",
            "['1', '2', '1', '2', '2'] ['1', '2', '1']\n",
            "3\n",
            "1 2 1\n"
          ]
        }
      ]
    },
    {
      "cell_type": "markdown",
      "source": [],
      "metadata": {
        "id": "1nWxeDqBPKXZ"
      }
    },
    {
      "cell_type": "markdown",
      "source": [
        "7. Наибольшее произведение трех чисел\n",
        "Не решалась\n",
        "Лёгкая\n",
        "В данном массиве из\n",
        "𝑛\n",
        "n целых чисел найдите три числа, произведение которых максимально.\n",
        "\n",
        "Формат ввода\n",
        "В единственной строке расположено\n",
        "𝑛\n",
        "n (\n",
        "3\n",
        "≤\n",
        "𝑛\n",
        "≤\n",
        "1\n",
        "0\n",
        "5\n",
        "3≤n≤10\n",
        "5\n",
        " ) чисел\n",
        "𝑎\n",
        "𝑖\n",
        "a\n",
        "i\n",
        "​\n",
        "  (\n",
        "−\n",
        "1\n",
        "0\n",
        "6\n",
        "≤\n",
        "𝑎\n",
        "𝑖\n",
        "≤\n",
        "1\n",
        "0\n",
        "6\n",
        "−10\n",
        "6\n",
        " ≤a\n",
        "i\n",
        "​\n",
        " ≤10\n",
        "6\n",
        " ) - элементы массива.\n",
        "\n",
        "Формат вывода\n",
        "Выведите три элемента массива, дающих наибольшее произведение, в любом порядке."
      ],
      "metadata": {
        "id": "WfsDmIWFZBI-"
      }
    },
    {
      "cell_type": "code",
      "source": [],
      "metadata": {
        "id": "nSl8TNaKZ7Ua"
      },
      "execution_count": 17,
      "outputs": []
    },
    {
      "cell_type": "code",
      "source": [
        "from decimal import Decimal\n",
        "from functools import reduce\n",
        "nums = [Decimal(_) for _ in input().split()]\n",
        "nums = sorted(nums, key=abs, reverse=True)\n",
        "while len(nums) > 3:\n",
        "  if reduce(lambda x, y: x * y, nums[:3]) > 0:\n",
        "    print(*nums[:3])\n",
        "    break\n",
        "  del nums[nums.index(min(nums[:3]))]\n",
        "\n"
      ],
      "metadata": {
        "id": "y2XyivcUZKLe",
        "outputId": "ebd63044-c35c-46d9-a078-6af4990cacbc",
        "colab": {
          "base_uri": "https://localhost:8080/"
        }
      },
      "execution_count": 33,
      "outputs": [
        {
          "output_type": "stream",
          "name": "stdout",
          "text": [
            "3 5 1 7 9 0 -9 -3 10\n",
            "10 9 7\n"
          ]
        }
      ]
    },
    {
      "cell_type": "code",
      "source": [
        "min(nums[:3])"
      ],
      "metadata": {
        "id": "qcWAnev5ZV_l",
        "outputId": "8a5e570a-92aa-46da-cc6a-62ce5e6641e8",
        "colab": {
          "base_uri": "https://localhost:8080/"
        }
      },
      "execution_count": 27,
      "outputs": [
        {
          "output_type": "execute_result",
          "data": {
            "text/plain": [
              "Decimal('-10')"
            ]
          },
          "metadata": {},
          "execution_count": 27
        }
      ]
    },
    {
      "cell_type": "code",
      "source": [
        "del nums[nums.index(min(nums[:3]))]"
      ],
      "metadata": {
        "id": "uBK2eV5pZdHQ",
        "outputId": "32768df6-1233-46a5-c230-61fb96e9490d",
        "colab": {
          "base_uri": "https://localhost:8080/"
        }
      },
      "execution_count": 30,
      "outputs": [
        {
          "output_type": "execute_result",
          "data": {
            "text/plain": [
              "0"
            ]
          },
          "metadata": {},
          "execution_count": 30
        }
      ]
    },
    {
      "cell_type": "code",
      "source": [],
      "metadata": {
        "id": "kDpAUaKsZrRc"
      },
      "execution_count": 14,
      "outputs": []
    },
    {
      "cell_type": "code",
      "source": [
        "print(Decimal(-10))"
      ],
      "metadata": {
        "id": "FtHzvFuRZyPF",
        "outputId": "9e1e07b9-b3a1-473e-fe93-111f1de089b1",
        "colab": {
          "base_uri": "https://localhost:8080/"
        }
      },
      "execution_count": 16,
      "outputs": [
        {
          "output_type": "stream",
          "name": "stdout",
          "text": [
            "-10\n"
          ]
        }
      ]
    },
    {
      "cell_type": "code",
      "source": [],
      "metadata": {
        "id": "aHijpFdOZ1S-"
      },
      "execution_count": null,
      "outputs": []
    }
  ]
}